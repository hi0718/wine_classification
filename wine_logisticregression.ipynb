{
  "nbformat": 4,
  "nbformat_minor": 0,
  "metadata": {
    "colab": {
      "name": "wine_logisticregression.ipynb",
      "provenance": [],
      "private_outputs": true,
      "collapsed_sections": []
    },
    "kernelspec": {
      "name": "python3",
      "display_name": "Python 3"
    },
    "accelerator": "GPU"
  },
  "cells": [
    {
      "cell_type": "code",
      "metadata": {
        "id": "1g_qR0GxlT6c",
        "colab_type": "code",
        "colab": {}
      },
      "source": [
        "%matplotlib inline\n",
        "import matplotlib.pyplot as plt\n",
        "import numpy as np\n",
        "import pandas as pd\n",
        "from sklearn.linear_model import LogisticRegression\n",
        "from sklearn.preprocessing import StandardScaler\n",
        "from sklearn.model_selection import train_test_split\n",
        "from sklearn.metrics import accuracy_score\n",
        "from mlxtend.plotting import plot_decision_regions"
      ],
      "execution_count": 0,
      "outputs": []
    },
    {
      "cell_type": "code",
      "metadata": {
        "id": "GswZDoYilXUE",
        "colab_type": "code",
        "colab": {}
      },
      "source": [
        "df = pd.read_csv('https://archive.ics.uci.edu/ml/machine-learning-databases/wine/wine.data', header=None)\n",
        "\n",
        "df.columns = ['Class label', 'Alcohol', 'Malic acid', 'Ash',\n",
        "                   'Alcalinity of ash', 'Magnesium', 'Total phenols',\n",
        "                   'Flavanoids', 'Nonflavanoid phenols', 'Proanthocyanins',\n",
        "                   'Color intensity', 'Hue', 'OD280/OD315 of diluted wines',\n",
        "                   'Proline']\n",
        "\n",
        "pd.DataFrame(df.head())"
      ],
      "execution_count": 0,
      "outputs": []
    },
    {
      "cell_type": "code",
      "metadata": {
        "id": "_TSBaE1_ScnT",
        "colab_type": "code",
        "colab": {}
      },
      "source": [
        "print('df shape', df.shape)"
      ],
      "execution_count": 0,
      "outputs": []
    },
    {
      "cell_type": "code",
      "metadata": {
        "id": "qq3vPMH0ylA-",
        "colab_type": "code",
        "colab": {}
      },
      "source": [
        "# 特徴量に色（10列）とプロリンの量(13列)を選択\n",
        "X = df.iloc[:,[10,13]].values\n",
        "# 正解ラベルの設定(ラベルはゼロから開始するようマイナス1する)\n",
        "y = df.iloc[:, 0].values -1\n",
        "X[:5], y[:5]"
      ],
      "execution_count": 0,
      "outputs": []
    },
    {
      "cell_type": "code",
      "metadata": {
        "id": "9qeM2P8H9AEw",
        "colab_type": "code",
        "colab": {}
      },
      "source": [
        "df.iloc[:,0].values"
      ],
      "execution_count": 0,
      "outputs": []
    },
    {
      "cell_type": "code",
      "metadata": {
        "id": "ucJ6pdwi6iHr",
        "colab_type": "code",
        "colab": {}
      },
      "source": [
        "#from sklearn import datasets\n",
        "#wine = datasets.load_wine()\n",
        "#X = wine.data[:,[9,12]]\n",
        "#y = wine.target\n",
        "#X[:5], y[:5]"
      ],
      "execution_count": 0,
      "outputs": []
    },
    {
      "cell_type": "code",
      "metadata": {
        "id": "eEhdKFJfl8lb",
        "colab_type": "code",
        "colab": {}
      },
      "source": [
        "X_train, X_test, y_train, y_test = train_test_split(X, y, test_size=0.2, random_state=0)\n",
        "print('X_trainの形状：',X_train.shape,' y_trainの形状：', y_train.shape,' X_testの形状：', X_test.shape,' y_testの形状：', y_test.shape)"
      ],
      "execution_count": 0,
      "outputs": []
    },
    {
      "cell_type": "code",
      "metadata": {
        "id": "9_Iwl2tfKTwO",
        "colab_type": "code",
        "colab": {}
      },
      "source": [
        "# 標準化\n",
        "sc = StandardScaler()\n",
        "X_train_std = sc.fit_transform(X_train)\n",
        "X_test_std = sc.transform(X_test)"
      ],
      "execution_count": 0,
      "outputs": []
    },
    {
      "cell_type": "code",
      "metadata": {
        "id": "HZi4pWsvmXpI",
        "colab_type": "code",
        "colab": {}
      },
      "source": [
        "# ロジスティック回帰モデルを作成\n",
        "model = LogisticRegression(max_iter=100, multi_class = 'ovr', solver='liblinear', C=1.0, penalty='l2', l1_ratio=None, random_state=0)\n",
        "model.fit(X_train_std, y_train)"
      ],
      "execution_count": 0,
      "outputs": []
    },
    {
      "cell_type": "code",
      "metadata": {
        "id": "b84MUkn3DMP3",
        "colab_type": "code",
        "colab": {}
      },
      "source": [
        "y_train_pred = model.predict(X_train_std)\n",
        "ac_score = accuracy_score(y_train, y_train_pred)\n",
        "print('正解率 = %.2f' % (ac_score))"
      ],
      "execution_count": 0,
      "outputs": []
    },
    {
      "cell_type": "code",
      "metadata": {
        "id": "eUjwAFkqCUSX",
        "colab_type": "code",
        "colab": {}
      },
      "source": [
        "y_test_pred = model.predict(X_test_std)\n",
        "ac_score = accuracy_score(y_test, y_test_pred)\n",
        "print('正解率 = %.2f' % (ac_score))"
      ],
      "execution_count": 0,
      "outputs": []
    },
    {
      "cell_type": "code",
      "metadata": {
        "id": "5cZLOAyTCUV6",
        "colab_type": "code",
        "colab": {}
      },
      "source": [
        "# ロジスティック回帰モデルによる訓練データのプロット\n",
        "plt.figure(figsize=(8,4)) \n",
        "plot_decision_regions(X_train_std, y_train, model)"
      ],
      "execution_count": 0,
      "outputs": []
    },
    {
      "cell_type": "code",
      "metadata": {
        "id": "OxUOU0kICUYv",
        "colab_type": "code",
        "colab": {}
      },
      "source": [
        "#  ロジスティック回帰モデルによるテストデータのプロット\n",
        "plt.figure(figsize=(8,4)) \n",
        "plot_decision_regions(X_test_std, y_test, model) "
      ],
      "execution_count": 0,
      "outputs": []
    },
    {
      "cell_type": "code",
      "metadata": {
        "id": "UBT4cTITDF7P",
        "colab_type": "code",
        "colab": {}
      },
      "source": [
        "print(model.coef_) \n",
        "print(model.intercept_) "
      ],
      "execution_count": 0,
      "outputs": []
    },
    {
      "cell_type": "code",
      "metadata": {
        "id": "aMZWi84ss0wT",
        "colab_type": "code",
        "colab": {}
      },
      "source": [
        "new_data = [[0.1,-0.1]] # 未知データの作成 \n",
        "print('ロジスティック回帰')\n",
        "print('予測',model.predict(new_data)) \n",
        "print('スコア',model.decision_function(new_data)) \n",
        "print('確率',model.predict_proba(new_data)) "
      ],
      "execution_count": 0,
      "outputs": []
    },
    {
      "cell_type": "code",
      "metadata": {
        "id": "tp-fXgH3Yrmb",
        "colab_type": "code",
        "colab": {}
      },
      "source": [
        "# 未知データの色とプロリンの標準化前の特徴量\n",
        "sc.inverse_transform(new_data)"
      ],
      "execution_count": 0,
      "outputs": []
    },
    {
      "cell_type": "code",
      "metadata": {
        "id": "JYWm_8jPArg8",
        "colab_type": "code",
        "colab": {}
      },
      "source": [
        "# ソフトマックス回帰モデルを作成\n",
        "model2 = LogisticRegression(max_iter=100, multi_class = 'multinomial', solver='lbfgs', C=1.0, penalty='l2', l1_ratio=None, random_state=0)\n",
        "\n",
        "model2.fit(X_train_std, y_train)"
      ],
      "execution_count": 0,
      "outputs": []
    },
    {
      "cell_type": "code",
      "metadata": {
        "id": "I-a5kRK8Dhlw",
        "colab_type": "code",
        "colab": {}
      },
      "source": [
        "y_train_pred = model2.predict(X_train_std)\n",
        "ac_score = accuracy_score(y_train, y_train_pred)\n",
        "print('正解率 = %.2f' % (ac_score))"
      ],
      "execution_count": 0,
      "outputs": []
    },
    {
      "cell_type": "code",
      "metadata": {
        "id": "1zGFMjmjgPqE",
        "colab_type": "code",
        "colab": {}
      },
      "source": [
        "y_test_pred = model2.predict(X_test_std)\n",
        "ac_score = accuracy_score(y_test, y_test_pred)\n",
        "print('正解率 = %.2f' % (ac_score))"
      ],
      "execution_count": 0,
      "outputs": []
    },
    {
      "cell_type": "code",
      "metadata": {
        "id": "D73DrBMEIZ1V",
        "colab_type": "code",
        "colab": {}
      },
      "source": [
        "print('ソフトマックス回帰')\n",
        "print('予測',model2.predict(new_data))\n",
        "print('スコア',model2.decision_function(new_data))\n",
        "print('確率',model2.predict_proba(new_data)) "
      ],
      "execution_count": 0,
      "outputs": []
    },
    {
      "cell_type": "code",
      "metadata": {
        "id": "2azXwECCdig4",
        "colab_type": "code",
        "colab": {}
      },
      "source": [
        "plt.figure(figsize=(8,4)) \n",
        "plot_decision_regions(X_train_std, y_train, model2)"
      ],
      "execution_count": 0,
      "outputs": []
    },
    {
      "cell_type": "code",
      "metadata": {
        "id": "DDTms_zHd_4Q",
        "colab_type": "code",
        "colab": {}
      },
      "source": [
        "plt.figure(figsize=(8,4))\n",
        "plot_decision_regions(X_test_std, y_test, model2) "
      ],
      "execution_count": 0,
      "outputs": []
    },
    {
      "cell_type": "code",
      "metadata": {
        "id": "5Y2f2TjfIeGA",
        "colab_type": "code",
        "colab": {}
      },
      "source": [
        "print(model2.coef_) \n",
        "print(model2.intercept_)"
      ],
      "execution_count": 0,
      "outputs": []
    },
    {
      "cell_type": "code",
      "metadata": {
        "id": "CDJ-4sDPC8G4",
        "colab_type": "code",
        "colab": {}
      },
      "source": [
        ""
      ],
      "execution_count": 0,
      "outputs": []
    }
  ]
}
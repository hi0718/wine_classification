{
  "nbformat": 4,
  "nbformat_minor": 0,
  "metadata": {
    "colab": {
      "name": "wine_randomforest.ipynb",
      "provenance": [],
      "private_outputs": true,
      "collapsed_sections": []
    },
    "kernelspec": {
      "name": "python3",
      "display_name": "Python 3"
    },
    "accelerator": "GPU"
  },
  "cells": [
    {
      "cell_type": "code",
      "metadata": {
        "id": "YFStTcVyp_Uz",
        "colab_type": "code",
        "colab": {}
      },
      "source": [
        "%matplotlib inline\n",
        "import matplotlib.pyplot as plt\n",
        "import numpy as np\n",
        "from sklearn.ensemble import RandomForestClassifier\n",
        "from sklearn.model_selection import train_test_split\n",
        "from sklearn.metrics import accuracy_score\n",
        "from mlxtend.plotting import plot_decision_regions\n",
        "from sklearn import datasets"
      ],
      "execution_count": 0,
      "outputs": []
    },
    {
      "cell_type": "code",
      "metadata": {
        "id": "18I_G4HP5Tfh",
        "colab_type": "code",
        "colab": {}
      },
      "source": [
        "wine = datasets.load_wine()\n",
        "X = wine.data\n",
        "y = wine.target\n",
        "\n",
        "X_train, X_test, y_train, y_test = train_test_split(X, y, test_size=0.2, random_state=0)\n",
        "print('X_train shape：',X_train.shape,' y_train  shape：', y_train.shape,' X_test shape：', X_test.shape,' y_test shape：', y_test.shape)"
      ],
      "execution_count": 0,
      "outputs": []
    },
    {
      "cell_type": "code",
      "metadata": {
        "id": "zvIhlQxY_eHp",
        "colab_type": "code",
        "colab": {}
      },
      "source": [
        "# ランダムフォレストのモデルを作成\n",
        "model = RandomForestClassifier(bootstrap=True, n_estimators=10, criterion='gini', max_depth=None, random_state=1)\n",
        "\n",
        "model.fit(X_train, y_train)"
      ],
      "execution_count": 0,
      "outputs": []
    },
    {
      "cell_type": "code",
      "metadata": {
        "id": "12Z0HYENVThi",
        "colab_type": "code",
        "colab": {}
      },
      "source": [
        "#正解率の計算\n",
        "y_test_pred = model.predict(X_test)\n",
        "ac_score = accuracy_score(y_test, y_test_pred)\n",
        "print('accuracy = %.2f' % (ac_score))"
      ],
      "execution_count": 0,
      "outputs": []
    },
    {
      "cell_type": "code",
      "metadata": {
        "id": "zl4SlhZBJgqW",
        "colab_type": "code",
        "colab": {}
      },
      "source": [
        "# 特徴量重要度を表示\n",
        "model.feature_importances_"
      ],
      "execution_count": 0,
      "outputs": []
    },
    {
      "cell_type": "code",
      "metadata": {
        "id": "Y8hA2aIf5fVh",
        "colab_type": "code",
        "colab": {}
      },
      "source": [
        "# 特徴量重要性を計算\n",
        "importances = model.feature_importances_\n",
        "\n",
        "# 特徴量重要性を降順にソート\n",
        "indices = np.argsort(importances)[::-1]\n",
        "\n",
        "# 特徴量の名前をソートした順に並び替え\n",
        "names = [wine.feature_names[i] for i in indices]\n",
        "\n",
        "plt.figure(figsize=(8,4)) #プロットのサイズ指定\n",
        "plt.title(\"Feature Importance\") # プロットのタイトルを作成\n",
        "plt.bar(range(X.shape[1]), importances[indices]) # 棒グラフを追加\n",
        "plt.xticks(range(X.shape[1]), names, rotation=90) # X軸に特徴量の名前を追加\n",
        "\n",
        "plt.show() # プロットを表示"
      ],
      "execution_count": 0,
      "outputs": []
    },
    {
      "cell_type": "code",
      "metadata": {
        "id": "wXB9BrqK5jxq",
        "colab_type": "code",
        "colab": {}
      },
      "source": [
        ""
      ],
      "execution_count": 0,
      "outputs": []
    }
  ]
}
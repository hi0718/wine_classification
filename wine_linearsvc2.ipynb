{
  "nbformat": 4,
  "nbformat_minor": 0,
  "metadata": {
    "colab": {
      "name": "wine_linearsvc2.ipynb",
      "provenance": [],
      "private_outputs": true,
      "collapsed_sections": []
    },
    "kernelspec": {
      "name": "python3",
      "display_name": "Python 3"
    },
    "accelerator": "GPU"
  },
  "cells": [
    {
      "cell_type": "code",
      "metadata": {
        "id": "yb1Vw9Art449",
        "colab_type": "code",
        "colab": {}
      },
      "source": [
        "%matplotlib inline\n",
        "import matplotlib.pyplot as plt\n",
        "import numpy as np\n",
        "from sklearn.svm import LinearSVC\n",
        "from sklearn.linear_model import LogisticRegression\n",
        "from sklearn.preprocessing import StandardScaler\n",
        "from sklearn.model_selection import train_test_split\n",
        "from sklearn.metrics import accuracy_score\n",
        "from mlxtend.plotting import plot_decision_regions\n",
        "from sklearn import datasets"
      ],
      "execution_count": 0,
      "outputs": []
    },
    {
      "cell_type": "code",
      "metadata": {
        "id": "maFNSfE9N3ty",
        "colab_type": "code",
        "colab": {}
      },
      "source": [
        "wine = datasets.load_wine()\n",
        "# 特徴量に色（9列）とプロリンの量(12列)を選択\n",
        "X = wine.data[:,[9,12]]\n",
        "y = wine.target\n",
        "\n",
        "X_train, X_test, y_train, y_test = train_test_split(X, y, test_size=0.2, random_state=0)\n",
        "\n",
        "# 標準化\n",
        "sc = StandardScaler()\n",
        "X_train_std = sc.fit_transform(X_train)\n",
        "X_test_std = sc.transform(X_test)\n",
        "\n",
        "print('X_train_std shape：',X_train_std.shape,' y_train shape：', y_train.shape,' X_test_std shape：', X_test_std.shape,' y_test shape：', y_test.shape)"
      ],
      "execution_count": 0,
      "outputs": []
    },
    {
      "cell_type": "code",
      "metadata": {
        "id": "gxYk4Ttcvpo1",
        "colab_type": "code",
        "colab": {}
      },
      "source": [
        "# LinearSVCのモデルを作成\n",
        "model = LinearSVC(loss='hinge', C=100.0, multi_class='ovr', penalty='l2', random_state=0)\n",
        "model.fit(X_train_std, y_train)\n",
        "\n",
        "# テストデータで正解率を計算\n",
        "y_test_pred = model.predict(X_test_std)\n",
        "ac_score = accuracy_score(y_test, y_test_pred)\n",
        "print('accuracy = %.2f' % (ac_score))"
      ],
      "execution_count": 0,
      "outputs": []
    },
    {
      "cell_type": "code",
      "metadata": {
        "id": "wJb-sQKOKylG",
        "colab_type": "code",
        "colab": {}
      },
      "source": [
        "# ロジスティック回帰モデルによる訓練データのプロット\n",
        "plt.figure(figsize=(8,4)) \n",
        "plot_decision_regions(X_train_std, y_train, model)"
      ],
      "execution_count": 0,
      "outputs": []
    },
    {
      "cell_type": "code",
      "metadata": {
        "id": "4uRuZRt5KyvS",
        "colab_type": "code",
        "colab": {}
      },
      "source": [
        "#  ロジスティック回帰モデルによるテストデータのプロット\n",
        "plt.figure(figsize=(8,4)) #プロットのサイズ指定\n",
        "plot_decision_regions(X_test_std, y_test, model)"
      ],
      "execution_count": 0,
      "outputs": []
    },
    {
      "cell_type": "code",
      "metadata": {
        "id": "Z4iCpPcg5ERI",
        "colab_type": "code",
        "colab": {}
      },
      "source": [
        ""
      ],
      "execution_count": 0,
      "outputs": []
    }
  ]
}
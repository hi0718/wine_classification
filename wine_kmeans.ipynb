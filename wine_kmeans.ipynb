{
  "nbformat": 4,
  "nbformat_minor": 0,
  "metadata": {
    "colab": {
      "name": "wine_kmeans.ipynb",
      "provenance": [],
      "private_outputs": true,
      "collapsed_sections": []
    },
    "kernelspec": {
      "name": "python3",
      "display_name": "Python 3"
    },
    "accelerator": "GPU"
  },
  "cells": [
    {
      "cell_type": "code",
      "metadata": {
        "id": "LabQ84R-JkZ3",
        "colab_type": "code",
        "colab": {}
      },
      "source": [
        "%matplotlib inline\n",
        "import matplotlib.pyplot as plt\n",
        "import numpy as np\n",
        "from sklearn.cluster import KMeans\n",
        "from sklearn.preprocessing import StandardScaler\n",
        "from sklearn import datasets"
      ],
      "execution_count": 0,
      "outputs": []
    },
    {
      "cell_type": "code",
      "metadata": {
        "id": "KAXbs4JX8yhM",
        "colab_type": "code",
        "colab": {}
      },
      "source": [
        "wine = datasets.load_wine()\n",
        "X = wine.data[:,[9,12]]\n",
        "y = wine.target\n",
        "\n",
        "# 標準化\n",
        "sc = StandardScaler()\n",
        "X_std = sc.fit_transform(X)"
      ],
      "execution_count": 0,
      "outputs": []
    },
    {
      "cell_type": "code",
      "metadata": {
        "id": "BM_iF6GWKYE2",
        "colab_type": "code",
        "colab": {}
      },
      "source": [
        "# K-Meansのモデルを作成\n",
        "model2 = KMeans(n_clusters=2, random_state=103)\n",
        "model3 = KMeans(n_clusters=3, random_state=103)\n",
        "model4 = KMeans(n_clusters=4, random_state=103)\n",
        "\n",
        "model2.fit(X_std)\n",
        "model3.fit(X_std)\n",
        "model4.fit(X_std)"
      ],
      "execution_count": 0,
      "outputs": []
    },
    {
      "cell_type": "code",
      "metadata": {
        "id": "lERg4tYHTwjh",
        "colab_type": "code",
        "colab": {}
      },
      "source": [
        "plt.figure(figsize=(8,12)) \n",
        "\n",
        "# クラスタ数2のK-Meansの散布図\n",
        "plt.subplot(3, 1, 1)\n",
        "plt.scatter(X_std[:,0], X_std[:,1], c=model2.labels_)\n",
        "plt.scatter(model2.cluster_centers_[:,0], model2.cluster_centers_[:,1],s=250, marker='*',c='red')\n",
        "plt.title('K-means(n_clusters=2)')\n",
        "\n",
        "# クラスタ数3のK-Meansの散布図\n",
        "plt.subplot(3, 1, 2)\n",
        "plt.scatter(X_std[:,0], X_std[:,1], c=model3.labels_)\n",
        "plt.scatter(model3.cluster_centers_[:,0], model3.cluster_centers_[:,1],s=250, marker='*',c='red')\n",
        "plt.title('K-means(n_clusters=3)')\n",
        "\n",
        "# クラスタ数4のK-Meansの散布図\n",
        "plt.subplot(3, 1, 3)\n",
        "plt.scatter(X_std[:,0], X_std[:,1], c=model4.labels_)\n",
        "plt.scatter(model4.cluster_centers_[:,0], model4.cluster_centers_[:,1],s=250, marker='*',c='red')\n",
        "plt.title('K-means(n_clusters=4)')\n",
        "\n",
        "plt.show"
      ],
      "execution_count": 0,
      "outputs": []
    },
    {
      "cell_type": "code",
      "metadata": {
        "id": "bFkZYAxmKe1S",
        "colab_type": "code",
        "colab": {}
      },
      "source": [
        "plt.figure(figsize=(8,8)) \n",
        "\n",
        "# 色とプロリンの散布図\n",
        "plt.subplot(2, 1, 1)\n",
        "plt.scatter(X_std[:,0], X_std[:,1], c=y)\n",
        "plt.title('training data y')\n",
        "\n",
        "# K-Meansの散布図\n",
        "plt.subplot(2, 1, 2)\n",
        "plt.scatter(X_std[:,0], X_std[:,1], c=model3.labels_)\n",
        "plt.scatter(model3.cluster_centers_[:,0], model3.cluster_centers_[:,1],s=250, marker='*',c='red')\n",
        "plt.title('K-means(n_clusters=3)')\n",
        "\n",
        "plt.show"
      ],
      "execution_count": 0,
      "outputs": []
    },
    {
      "cell_type": "code",
      "metadata": {
        "id": "pnco9RufZrCB",
        "colab_type": "code",
        "colab": {}
      },
      "source": [
        "model3.labels_ #クラスタリング結果"
      ],
      "execution_count": 0,
      "outputs": []
    },
    {
      "cell_type": "code",
      "metadata": {
        "id": "u6Pd1b7wZbq0",
        "colab_type": "code",
        "colab": {}
      },
      "source": [
        "model3.cluster_centers_ #重心"
      ],
      "execution_count": 0,
      "outputs": []
    },
    {
      "cell_type": "code",
      "metadata": {
        "id": "hCvfYPH_YSVG",
        "colab_type": "code",
        "colab": {}
      },
      "source": [
        ""
      ],
      "execution_count": 0,
      "outputs": []
    }
  ]
}
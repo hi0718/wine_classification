{
  "nbformat": 4,
  "nbformat_minor": 0,
  "metadata": {
    "colab": {
      "name": "wine_linearsvc1.ipynb",
      "provenance": [],
      "private_outputs": true,
      "collapsed_sections": []
    },
    "kernelspec": {
      "name": "python3",
      "display_name": "Python 3"
    },
    "accelerator": "GPU"
  },
  "cells": [
    {
      "cell_type": "code",
      "metadata": {
        "id": "yb1Vw9Art449",
        "colab_type": "code",
        "colab": {}
      },
      "source": [
        "%matplotlib inline\n",
        "import matplotlib.pyplot as plt\n",
        "import numpy as np\n",
        "import pandas as pd\n",
        "from sklearn.svm import LinearSVC\n",
        "from sklearn.linear_model import LogisticRegression\n",
        "from sklearn.preprocessing import StandardScaler\n",
        "from mlxtend.plotting import plot_decision_regions"
      ],
      "execution_count": 0,
      "outputs": []
    },
    {
      "cell_type": "code",
      "metadata": {
        "id": "s1ic4-ptt8qO",
        "colab_type": "code",
        "colab": {}
      },
      "source": [
        "df = pd.read_csv('https://archive.ics.uci.edu/ml/machine-learning-databases/wine/wine.data', header=None)\n",
        "\n",
        "df.columns = ['Class label', 'Alcohol', 'Malic acid', 'Ash',\n",
        "                   'Alcalinity of ash', 'Magnesium', 'Total phenols',\n",
        "                   'Flavanoids', 'Nonflavanoid phenols', 'Proanthocyanins',\n",
        "                   'Color intensity', 'Hue', 'OD280/OD315 of diluted wines',\n",
        "                   'Proline']\n",
        "\n",
        "df = df[44:71]\n",
        "\n",
        "# 特徴量に色（10列）とプロリンの量(13列)を選択\n",
        "X = df.iloc[:,[10,13]].values\n",
        "# 正解ラベルの設定(ラベルはゼロから開始するようマイナス1する)\n",
        "y = df.iloc[:, 0].values -1\n",
        "\n",
        "# 標準化\n",
        "sc = StandardScaler()\n",
        "X_std = sc.fit_transform(X)"
      ],
      "execution_count": 0,
      "outputs": []
    },
    {
      "cell_type": "code",
      "metadata": {
        "id": "gxYk4Ttcvpo1",
        "colab_type": "code",
        "colab": {}
      },
      "source": [
        "# ハードマージンのモデルを作成\n",
        "model = LinearSVC(loss='hinge', C=10000.0, multi_class='ovr', penalty='l2', random_state=0)\n",
        "\n",
        "model.fit(X_std, y)"
      ],
      "execution_count": 0,
      "outputs": []
    },
    {
      "cell_type": "code",
      "metadata": {
        "id": "1ZsdP5_xd3XG",
        "colab_type": "code",
        "colab": {}
      },
      "source": [
        "model.coef_[0] #パラメータw"
      ],
      "execution_count": 0,
      "outputs": []
    },
    {
      "cell_type": "code",
      "metadata": {
        "id": "EkY6AszmeAUE",
        "colab_type": "code",
        "colab": {}
      },
      "source": [
        "model.intercept_[0] #パラメータb"
      ],
      "execution_count": 0,
      "outputs": []
    },
    {
      "cell_type": "code",
      "metadata": {
        "id": "QyTPAGKpvy5x",
        "colab_type": "code",
        "colab": {}
      },
      "source": [
        "# 決定境界用の変数X_pltを作成\n",
        "X_plt = np.linspace(-3, 3, 200)[:, np.newaxis]\n",
        "\n",
        "# 決定境界の作成\n",
        "w = model.coef_[0]\n",
        "b = model.intercept_[0]\n",
        "decision_boundary = -w[0]/w[1] * X_plt - b/w[1]\n",
        "\n",
        "# 決定境界の上下にマージン作成\n",
        "margin = 1/w[1]\n",
        "margin_up = decision_boundary + margin\n",
        "margin_down = decision_boundary - margin"
      ],
      "execution_count": 0,
      "outputs": []
    },
    {
      "cell_type": "code",
      "metadata": {
        "id": "tQZmYFjsv4Wx",
        "colab_type": "code",
        "colab": {}
      },
      "source": [
        "plt.figure(figsize=(8,4)) \n",
        "\n",
        "# 決定境界、マージンのプロット\n",
        "plt.plot(X_plt, decision_boundary, linestyle = \"-\",  color='black', label='LinearSVC')\n",
        "plt.plot(X_plt, margin_up, linestyle = \":\", color='red', label='margin')\n",
        "plt.plot(X_plt, margin_down, linestyle = \":\",color='blue', label='margin')\n",
        "\n",
        "# 訓練データの散布図\n",
        "plt.scatter(X_std[:, 0][y==1], X_std[:, 1][y==1], c='r', marker='x', label='1')\n",
        "plt.scatter(X_std[:, 0][y==0], X_std[:, 1][y==0], c='b', marker='s', label='0')\n",
        "plt.legend(loc='best')\n",
        "\n",
        "plt.show"
      ],
      "execution_count": 0,
      "outputs": []
    },
    {
      "cell_type": "code",
      "metadata": {
        "id": "_9KNanftoAxy",
        "colab_type": "code",
        "colab": {}
      },
      "source": [
        "# LinearSVC（ソフトマージン）のモデルを作成\n",
        "model2 = LinearSVC(loss='hinge', C=1.0, multi_class='ovr', penalty='l2', random_state=0)\n",
        "\n",
        "model2.fit(X_std, y)"
      ],
      "execution_count": 0,
      "outputs": []
    },
    {
      "cell_type": "code",
      "metadata": {
        "id": "5UzuME9XoLdN",
        "colab_type": "code",
        "colab": {}
      },
      "source": [
        "# 決定境界の作成\n",
        "w = model2.coef_[0]\n",
        "b = model2.intercept_[0]\n",
        "decision_boundary2 = -w[0]/w[1] * X_plt - b/w[1]\n",
        "\n",
        "# 決定境界の上下にマージン作成\n",
        "margin2 = 1/w[1]\n",
        "margin_up2 = decision_boundary2 + margin2\n",
        "margin_down2 = decision_boundary2 - margin2"
      ],
      "execution_count": 0,
      "outputs": []
    },
    {
      "cell_type": "code",
      "metadata": {
        "id": "z7QmlQXIg_Bt",
        "colab_type": "code",
        "colab": {}
      },
      "source": [
        "plt.figure(figsize=(8,4)) \n",
        "\n",
        "# 決定境界、マージンのプロット\n",
        "plt.plot(X_plt, decision_boundary2, linestyle = \"-\",  color='black', label='LinearSVC')\n",
        "plt.plot(X_plt, margin_up2, linestyle = \":\", color='red', label='margin')\n",
        "plt.plot(X_plt, margin_down2, linestyle = \":\",color='blue', label='margin')\n",
        "\n",
        "# 訓練データの散布図\n",
        "plt.scatter(X_std[:, 0][y==1], X_std[:, 1][y==1], c='r', marker='x', label='1')\n",
        "plt.scatter(X_std[:, 0][y==0], X_std[:, 1][y==0], c='b', marker='s', label='0')\n",
        "plt.legend(loc='best')\n",
        "\n",
        "plt.show"
      ],
      "execution_count": 0,
      "outputs": []
    },
    {
      "cell_type": "code",
      "metadata": {
        "id": "Z4iCpPcg5ERI",
        "colab_type": "code",
        "colab": {}
      },
      "source": [
        ""
      ],
      "execution_count": 0,
      "outputs": []
    }
  ]
}
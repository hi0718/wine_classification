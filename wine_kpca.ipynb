{
  "nbformat": 4,
  "nbformat_minor": 0,
  "metadata": {
    "colab": {
      "name": "wine_kpca.ipynb",
      "provenance": [],
      "private_outputs": true,
      "collapsed_sections": []
    },
    "kernelspec": {
      "name": "python3",
      "display_name": "Python 3"
    },
    "accelerator": "GPU"
  },
  "cells": [
    {
      "cell_type": "code",
      "metadata": {
        "id": "0qbi-FohuI1B",
        "colab_type": "code",
        "colab": {}
      },
      "source": [
        "%matplotlib inline\n",
        "import matplotlib.pyplot as plt\n",
        "import numpy as np\n",
        "from sklearn.linear_model import LogisticRegression\n",
        "from sklearn.preprocessing import StandardScaler\n",
        "from sklearn.model_selection import train_test_split\n",
        "from sklearn.metrics import accuracy_score\n",
        "from mlxtend.plotting import plot_decision_regions\n",
        "from sklearn import datasets"
      ],
      "execution_count": 0,
      "outputs": []
    },
    {
      "cell_type": "code",
      "metadata": {
        "id": "D30EeHQHKh_K",
        "colab_type": "code",
        "colab": {}
      },
      "source": [
        "wine = datasets.load_wine()\n",
        "X = wine.data\n",
        "y = wine.target\n",
        "\n",
        "X_train, X_test, y_train, y_test=train_test_split(X, y, test_size=0.2, random_state=0)\n",
        "\n",
        "# 標準化\n",
        "sc = StandardScaler()\n",
        "X_train_std = sc.fit_transform(X_train)\n",
        "X_test_std =sc.transform(X_test)\n",
        "\n",
        "X_train_std.shape,  X_test_std.shape"
      ],
      "execution_count": 0,
      "outputs": []
    },
    {
      "cell_type": "code",
      "metadata": {
        "id": "uBcPogI3X4eb",
        "colab_type": "code",
        "colab": {}
      },
      "source": [
        "from sklearn.decomposition import KernelPCA\n",
        "\n",
        "# 削除後の次元を2に指定し、主成分分析を実行\n",
        "KPCA = KernelPCA(n_components=2, kernel='rbf', gamma=0.3, random_state=0)\n",
        "\n",
        "# 訓練データで主成分分析のモデル作成\n",
        "X_train_kpca = KPCA.fit_transform(X_train_std)\n",
        "# 訓練データで作成したモデルでテストデータを主成分分析\n",
        "X_test_kpca = KPCA.transform(X_test_std)\n",
        "\n",
        "X_train_kpca.shape, X_test_kpca.shape"
      ],
      "execution_count": 0,
      "outputs": []
    },
    {
      "cell_type": "code",
      "metadata": {
        "id": "f1sifE4EEiiA",
        "colab_type": "code",
        "colab": {}
      },
      "source": [
        "# ロジスティック回帰モデルを作成\n",
        "model = LogisticRegression( multi_class='ovr', max_iter=100, solver='liblinear', penalty='l2', random_state=0)\n",
        "\n",
        "model.fit(X_train_kpca, y_train)\n",
        "\n",
        "y_test_pred = model.predict(X_test_kpca)\n",
        "ac_score = accuracy_score(y_test, y_test_pred)\n",
        "print('accuracy = %.2f' % (ac_score))"
      ],
      "execution_count": 0,
      "outputs": []
    },
    {
      "cell_type": "code",
      "metadata": {
        "id": "VWPChs5hEr_x",
        "colab_type": "code",
        "colab": {}
      },
      "source": [
        "# 訓練データのプロット\n",
        "plt.figure(figsize=(8,4))\n",
        "plot_decision_regions(X_train_kpca, y_train, model)"
      ],
      "execution_count": 0,
      "outputs": []
    },
    {
      "cell_type": "code",
      "metadata": {
        "id": "82f_fD19E2Sh",
        "colab_type": "code",
        "colab": {}
      },
      "source": [
        "# テストデータのプロット\n",
        "plt.figure(figsize=(8,4))\n",
        "plot_decision_regions(X_test_kpca, y_test, model)"
      ],
      "execution_count": 0,
      "outputs": []
    },
    {
      "cell_type": "code",
      "metadata": {
        "id": "MhFmrn5tF0Bp",
        "colab_type": "code",
        "colab": {}
      },
      "source": [
        ""
      ],
      "execution_count": 0,
      "outputs": []
    }
  ]
}
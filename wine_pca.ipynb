{
  "nbformat": 4,
  "nbformat_minor": 0,
  "metadata": {
    "colab": {
      "name": "wine_pca.ipynb",
      "provenance": [],
      "private_outputs": true,
      "collapsed_sections": []
    },
    "kernelspec": {
      "name": "python3",
      "display_name": "Python 3"
    },
    "accelerator": "GPU"
  },
  "cells": [
    {
      "cell_type": "code",
      "metadata": {
        "id": "0qbi-FohuI1B",
        "colab_type": "code",
        "colab": {}
      },
      "source": [
        "%matplotlib inline\n",
        "import matplotlib.pyplot as plt\n",
        "import numpy as np\n",
        "from sklearn.linear_model import LogisticRegression\n",
        "from sklearn.preprocessing import StandardScaler\n",
        "from sklearn.model_selection import train_test_split\n",
        "from sklearn.metrics import accuracy_score\n",
        "from mlxtend.plotting import plot_decision_regions\n",
        "from sklearn import datasets"
      ],
      "execution_count": 0,
      "outputs": []
    },
    {
      "cell_type": "code",
      "metadata": {
        "id": "D30EeHQHKh_K",
        "colab_type": "code",
        "colab": {}
      },
      "source": [
        "wine = datasets.load_wine()\n",
        "X = wine.data\n",
        "y = wine.target\n",
        "\n",
        "X_train, X_test, y_train, y_test=train_test_split(X, y, test_size=0.2, random_state=0)\n",
        "\n",
        "# 標準化\n",
        "sc = StandardScaler()\n",
        "X_train_std = sc.fit_transform(X_train)\n",
        "X_test_std =sc.transform(X_test)\n",
        "\n",
        "X_train_std.shape,  X_test_std.shape"
      ],
      "execution_count": 0,
      "outputs": []
    },
    {
      "cell_type": "code",
      "metadata": {
        "id": "uBcPogI3X4eb",
        "colab_type": "code",
        "colab": {}
      },
      "source": [
        "from sklearn.decomposition import PCA\n",
        "# 削除後の次元を2に指定し、主成分分析を実行\n",
        "PCA = PCA(n_components=2)\n",
        "# 訓練データで主成分分析のモデル作成\n",
        "X_train_pca = PCA.fit_transform(X_train_std)\n",
        "# 訓練データで作成したモデルでテストデータを主成分分析\n",
        "X_test_pca = PCA.transform(X_test_std)"
      ],
      "execution_count": 0,
      "outputs": []
    },
    {
      "cell_type": "code",
      "metadata": {
        "id": "pGedgQ_FUKFk",
        "colab_type": "code",
        "colab": {}
      },
      "source": [
        "# 第2主成分までの主成分分析の結果\n",
        "print(\"固有値\")\n",
        "print(PCA.explained_variance_) \n",
        "print(\"因子寄与率\")\n",
        "print(PCA.explained_variance_ratio_)"
      ],
      "execution_count": 0,
      "outputs": []
    },
    {
      "cell_type": "code",
      "metadata": {
        "id": "1VI0PsgIvKym",
        "colab_type": "code",
        "colab": {}
      },
      "source": [
        "print(\"固有ベクトルの形状\")\n",
        "print(PCA.components_.shape)\n",
        "print(\"固有ベクトル\")\n",
        "print(PCA.components_)"
      ],
      "execution_count": 0,
      "outputs": []
    },
    {
      "cell_type": "code",
      "metadata": {
        "id": "xKQdZYLFjrBn",
        "colab_type": "code",
        "colab": {}
      },
      "source": [
        "X_train_pca.shape, X_test_pca.shape"
      ],
      "execution_count": 0,
      "outputs": []
    },
    {
      "cell_type": "code",
      "metadata": {
        "id": "li9ulcrqQosi",
        "colab_type": "code",
        "colab": {}
      },
      "source": [
        "print('先頭5件の削除後の特徴量') \n",
        "print(X_train_pca[:5])"
      ],
      "execution_count": 0,
      "outputs": []
    },
    {
      "cell_type": "code",
      "metadata": {
        "id": "FJOiY_XqwJZa",
        "colab_type": "code",
        "colab": {}
      },
      "source": [
        "# ロジスティック回帰モデルを作成\n",
        "model = LogisticRegression( multi_class='ovr', max_iter=100, solver='liblinear', penalty='l2', random_state=0)\n",
        "\n",
        "model.fit(X_train_pca, y_train)\n",
        "\n",
        "y_test_pred = model.predict(X_test_pca)\n",
        "ac_score = accuracy_score(y_test, y_test_pred)\n",
        "print('accuracy = %.2f' % (ac_score))"
      ],
      "execution_count": 0,
      "outputs": []
    },
    {
      "cell_type": "code",
      "metadata": {
        "id": "w9N4eyhPyymn",
        "colab_type": "code",
        "colab": {}
      },
      "source": [
        "# 訓練データのプロット\n",
        "plt.figure(figsize=(8,4))\n",
        "plot_decision_regions(X_train_pca, y_train, model)"
      ],
      "execution_count": 0,
      "outputs": []
    },
    {
      "cell_type": "code",
      "metadata": {
        "id": "cdMGQ_Moy83z",
        "colab_type": "code",
        "colab": {}
      },
      "source": [
        "# テストデータのプロット\n",
        "plt.figure(figsize=(8,4))\n",
        "plot_decision_regions(X_test_pca, y_test, model) "
      ],
      "execution_count": 0,
      "outputs": []
    },
    {
      "cell_type": "code",
      "metadata": {
        "id": "6qV3kc8aATVa",
        "colab_type": "code",
        "colab": {}
      },
      "source": [
        "from sklearn.decomposition import PCA\n",
        "# 削除後の次元を指定しないで、主成分分析を実行\n",
        "PCA2 = PCA(n_components=None)\n",
        "X_train_pca2 = PCA2.fit_transform(X_train_std)"
      ],
      "execution_count": 0,
      "outputs": []
    },
    {
      "cell_type": "code",
      "metadata": {
        "id": "GhdGMp90Kq9l",
        "colab_type": "code",
        "colab": {}
      },
      "source": [
        "# 全ての固有値の主成分分析の結果\n",
        "print(\"固有値\")\n",
        "print(PCA2.explained_variance_)\n",
        "print(\"因子寄与率\")\n",
        "print(PCA2.explained_variance_ratio_)"
      ],
      "execution_count": 0,
      "outputs": []
    },
    {
      "cell_type": "code",
      "metadata": {
        "id": "xSNAwdJx0zWW",
        "colab_type": "code",
        "colab": {}
      },
      "source": [
        "# 次元数と累積寄与率\n",
        "ratio = PCA2.explained_variance_ratio_\n",
        "ratio = np.hstack([0, ratio.cumsum()])\n",
        "\n",
        "plt.figure(figsize=(8,4)) #プロットのサイズ指定\n",
        "plt.plot(ratio)\n",
        "plt.ylabel('Cumulative contribution rate')\n",
        "plt.xlabel('Principal component index k')\n",
        "plt.title('Wine dataset')\n",
        "\n",
        "plt.show()"
      ],
      "execution_count": 0,
      "outputs": []
    },
    {
      "cell_type": "code",
      "metadata": {
        "id": "MhFmrn5tF0Bp",
        "colab_type": "code",
        "colab": {}
      },
      "source": [
        "from sklearn.decomposition import PCA\n",
        "# 累積寄与率を指定して、主成分分析を実行\n",
        "PCA3 = PCA(n_components=0.8)\n",
        "X_train_pca3 = PCA3.fit_transform(X_train_std)\n",
        "\n",
        "# 指定した累積寄与率を超えるよう主成分分析した結果\n",
        "print(\"固有値\")\n",
        "print(PCA3.explained_variance_)\n",
        "print(\"因子寄与率\")\n",
        "print(PCA3.explained_variance_ratio_)"
      ],
      "execution_count": 0,
      "outputs": []
    },
    {
      "cell_type": "code",
      "metadata": {
        "id": "B2ZQBhE152By",
        "colab_type": "code",
        "colab": {}
      },
      "source": [
        ""
      ],
      "execution_count": 0,
      "outputs": []
    }
  ]
}
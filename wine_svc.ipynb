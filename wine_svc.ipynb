{
  "nbformat": 4,
  "nbformat_minor": 0,
  "metadata": {
    "colab": {
      "name": "wine_svc.ipynb",
      "provenance": [],
      "private_outputs": true,
      "collapsed_sections": []
    },
    "kernelspec": {
      "name": "python3",
      "display_name": "Python 3"
    },
    "accelerator": "GPU"
  },
  "cells": [
    {
      "cell_type": "code",
      "metadata": {
        "id": "YFStTcVyp_Uz",
        "colab_type": "code",
        "colab": {}
      },
      "source": [
        "%matplotlib inline\n",
        "import matplotlib.pyplot as plt\n",
        "import numpy as np\n",
        "from sklearn.svm import SVC\n",
        "from sklearn.preprocessing import StandardScaler\n",
        "from sklearn.model_selection import train_test_split\n",
        "from sklearn.metrics import accuracy_score\n",
        "from mlxtend.plotting import plot_decision_regions\n",
        "from sklearn import datasets"
      ],
      "execution_count": 0,
      "outputs": []
    },
    {
      "cell_type": "code",
      "metadata": {
        "id": "18I_G4HP5Tfh",
        "colab_type": "code",
        "colab": {}
      },
      "source": [
        "wine = datasets.load_wine()\n",
        "# 特徴量に色（9列）とプロリンの量(12列)を選択\n",
        "X = wine.data[:,[9,12]]\n",
        "y = wine.target\n",
        "\n",
        "X_train, X_test, y_train, y_test = train_test_split(X, y, test_size=0.2, random_state=0)\n",
        "\n",
        "# 標準化\n",
        "sc = StandardScaler()\n",
        "X_train_std = sc.fit_transform(X_train)\n",
        "X_test_std = sc.transform(X_test)\n",
        "\n",
        "print('X_train_std shape：',X_train_std.shape,' y_train shape：', y_train.shape,' X_test_std shape：', X_test_std.shape,' y_test shape：', y_test.shape)"
      ],
      "execution_count": 0,
      "outputs": []
    },
    {
      "cell_type": "code",
      "metadata": {
        "id": "gM0bP4a6VygQ",
        "colab_type": "code",
        "colab": {}
      },
      "source": [
        "# SVCのモデルを作成\n",
        "model = SVC(kernel='rbf', gamma=2.5 , C=100.0, decision_function_shape='ovr' ,random_state=0) \n",
        "#model = SVC(kernel='rbf', gamma=1.5 , C=100.0, decision_function_shape='ovr' ,random_state=0) \n",
        "#model = SVC(kernel='rbf', gamma=0.01 , C=100.0, decision_function_shape='ovr' ,random_state=0) \n",
        "\n",
        "model.fit(X_train_std, y_train)"
      ],
      "execution_count": 0,
      "outputs": []
    },
    {
      "cell_type": "code",
      "metadata": {
        "id": "X_2exJodV7oU",
        "colab_type": "code",
        "colab": {}
      },
      "source": [
        "y_test_pred = model.predict(X_test_std)\n",
        "ac_score = accuracy_score(y_test, y_test_pred)\n",
        "print('accuracy = %.2f' % (ac_score))"
      ],
      "execution_count": 0,
      "outputs": []
    },
    {
      "cell_type": "code",
      "metadata": {
        "id": "ioEbOuf6WGGS",
        "colab_type": "code",
        "colab": {}
      },
      "source": [
        "# 訓練データのプロット\n",
        "plt.figure(figsize=(8,4)) \n",
        "plot_decision_regions(X_train_std, y_train, model)"
      ],
      "execution_count": 0,
      "outputs": []
    },
    {
      "cell_type": "code",
      "metadata": {
        "id": "6LuWHm2cV7ws",
        "colab_type": "code",
        "colab": {}
      },
      "source": [
        "# テストデータのプロット\n",
        "plt.figure(figsize=(8,4)) \n",
        "plot_decision_regions(X_test_std, y_test, model) "
      ],
      "execution_count": 0,
      "outputs": []
    },
    {
      "cell_type": "code",
      "metadata": {
        "id": "wXB9BrqK5jxq",
        "colab_type": "code",
        "colab": {}
      },
      "source": [
        ""
      ],
      "execution_count": 0,
      "outputs": []
    }
  ]
}
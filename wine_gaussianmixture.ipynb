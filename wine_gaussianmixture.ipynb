{
  "nbformat": 4,
  "nbformat_minor": 0,
  "metadata": {
    "colab": {
      "name": "wine_gaussianmixture.ipynb",
      "provenance": [],
      "private_outputs": true,
      "collapsed_sections": []
    },
    "kernelspec": {
      "name": "python3",
      "display_name": "Python 3"
    },
    "accelerator": "GPU"
  },
  "cells": [
    {
      "cell_type": "code",
      "metadata": {
        "id": "hUqMSPOvNvti",
        "colab_type": "code",
        "colab": {}
      },
      "source": [
        "%matplotlib inline\n",
        "import matplotlib.pyplot as plt\n",
        "import numpy as np\n",
        "from sklearn.mixture import GaussianMixture\n",
        "from sklearn.mixture import BayesianGaussianMixture\n",
        "from sklearn.preprocessing import StandardScaler\n",
        "from sklearn import datasets"
      ],
      "execution_count": 0,
      "outputs": []
    },
    {
      "cell_type": "code",
      "metadata": {
        "id": "QIHLN0VgRVDY",
        "colab_type": "code",
        "colab": {}
      },
      "source": [
        "wine = datasets.load_wine()\n",
        "X = wine.data[:,[9,12]]\n",
        "y = wine.target\n",
        "\n",
        "# 標準化\n",
        "sc = StandardScaler()\n",
        "X_std = sc.fit_transform(X)"
      ],
      "execution_count": 0,
      "outputs": []
    },
    {
      "cell_type": "code",
      "metadata": {
        "id": "nk_ROD1ud-EA",
        "colab_type": "code",
        "colab": {}
      },
      "source": [
        "# covariance_typeに'diag'を指定しGMMのモデルを作成\n",
        "model = GaussianMixture(n_components=3, covariance_type='diag', random_state=1)\n",
        "model.fit(X_std)\n",
        "\n",
        "# covariance_typeに'full'を指定し GMMのモデルを作成\n",
        "model2 = GaussianMixture(n_components=3, covariance_type='full', random_state=1)\n",
        "model2.fit(X_std)"
      ],
      "execution_count": 0,
      "outputs": []
    },
    {
      "cell_type": "code",
      "metadata": {
        "id": "qOlIadNubYIA",
        "colab_type": "code",
        "colab": {}
      },
      "source": [
        "plt.figure(figsize=(8,8))\n",
        "# 色とプロリンの散布図のGMM(diag)によるクラスタリング\n",
        "plt.subplot(2, 1, 1)\n",
        "\n",
        "x = np.linspace(X_std[:,0].min(), X_std[:,0].max(), 100)\n",
        "y = np.linspace(X_std[:,0].min(), X_std[:,0].max(), 100)\n",
        "X, Y = np.meshgrid(x, y)\n",
        "XX = np.array([X.ravel(), Y.ravel()]).T\n",
        "Z = -model.score_samples(XX)\n",
        "Z = Z.reshape(X.shape)\n",
        "\n",
        "plt.contour(X, Y, Z, levels=[0.5, 1, 2 ,3 ,4, 5]) # 等高線のプロット\n",
        "plt.scatter(X_std[:,0], X_std[:,1], c=model.predict(X_std))\n",
        "plt.scatter(model.means_[:,0], model.means_[:,1],s=250, marker='*',c='red')\n",
        "plt.title('GMM(covariance_type=diag)')\n",
        "\n",
        "# 色とプロリンの散布図のGMM(full)によるクラスタリング\n",
        "plt.subplot(2, 1, 2)\n",
        "\n",
        "x = np.linspace(X_std[:,0].min(), X_std[:,0].max(), 100)\n",
        "y = np.linspace(X_std[:,0].min(), X_std[:,0].max(), 100)\n",
        "X, Y = np.meshgrid(x, y)\n",
        "XX = np.array([X.ravel(), Y.ravel()]).T\n",
        "Z = -model2.score_samples(XX)\n",
        "Z = Z.reshape(X.shape)\n",
        "\n",
        "plt.contour(X, Y, Z, levels=[0.5, 1, 2 ,3 ,4, 5]) # 等高線のプロット\n",
        "plt.scatter(X_std[:,0], X_std[:,1], c=model2.predict(X_std))\n",
        "plt.scatter(model2.means_[:,0], model2.means_[:,1],s=250, marker='*',c='red')\n",
        "plt.title('GMM(covariance_type=full)')\n",
        "\n",
        "plt.show"
      ],
      "execution_count": 0,
      "outputs": []
    },
    {
      "cell_type": "code",
      "metadata": {
        "id": "fRPELBxGxJ41",
        "colab_type": "code",
        "colab": {}
      },
      "source": [
        "model.predict(X_std) #予測"
      ],
      "execution_count": 0,
      "outputs": []
    },
    {
      "cell_type": "code",
      "metadata": {
        "id": "BQ4Ns3WR96XP",
        "colab_type": "code",
        "colab": {}
      },
      "source": [
        "model.weights_ #混合係数"
      ],
      "execution_count": 0,
      "outputs": []
    },
    {
      "cell_type": "code",
      "metadata": {
        "id": "QmK4mln8yO-y",
        "colab_type": "code",
        "colab": {}
      },
      "source": [
        "model.means_ #平均ベクトル"
      ],
      "execution_count": 0,
      "outputs": []
    },
    {
      "cell_type": "code",
      "metadata": {
        "id": "p5eLgHBpfgMq",
        "colab_type": "code",
        "colab": {}
      },
      "source": [
        "model.covariances_ # covariance_type='diag'の共分散行列"
      ],
      "execution_count": 0,
      "outputs": []
    },
    {
      "cell_type": "code",
      "metadata": {
        "id": "j0K7KQorfkoO",
        "colab_type": "code",
        "colab": {}
      },
      "source": [
        "model2.covariances_ # covariance_type='full'の共分散行列"
      ],
      "execution_count": 0,
      "outputs": []
    },
    {
      "cell_type": "code",
      "metadata": {
        "id": "5_9WSuxu7d91",
        "colab_type": "code",
        "colab": {}
      },
      "source": [
        "# VBGMMのモデルを作成\n",
        "model3 = BayesianGaussianMixture(n_components=10, covariance_type='full', random_state=18)\n",
        "model3.fit(X_std)"
      ],
      "execution_count": 0,
      "outputs": []
    },
    {
      "cell_type": "code",
      "metadata": {
        "id": "dQyLatYLObGI",
        "colab_type": "code",
        "colab": {}
      },
      "source": [
        "plt.figure(figsize=(8,4))\n",
        "\n",
        "# 色とプロリンの散布図のVBGMMによるクラスタリング\n",
        "x = np.linspace(X_std[:,0].min(), X_std[:,0].max(), 100)\n",
        "y = np.linspace(X_std[:,0].min(), X_std[:,0].max(), 100)\n",
        "X, Y = np.meshgrid(x, y)\n",
        "XX = np.array([X.ravel(), Y.ravel()]).T\n",
        "Z = -model3.score_samples(XX)\n",
        "Z = Z.reshape(X.shape)\n",
        "\n",
        "plt.contour(X, Y, Z, levels=[0.5, 1, 2 ,3 ,4, 5]) # 等高線のプロット\n",
        "plt.scatter(X_std[:,0], X_std[:,1], c=model3.predict(X_std))\n",
        "plt.title('VBGMM(covariance_type=full)')\n",
        "\n",
        "plt.show"
      ],
      "execution_count": 0,
      "outputs": []
    },
    {
      "cell_type": "code",
      "metadata": {
        "id": "OnwxNr2r8389",
        "colab_type": "code",
        "colab": {}
      },
      "source": [
        "model3.means_ #平均ベクトル"
      ],
      "execution_count": 0,
      "outputs": []
    },
    {
      "cell_type": "code",
      "metadata": {
        "id": "3qzf43RwtCd5",
        "colab_type": "code",
        "colab": {}
      },
      "source": [
        "model3.weights_ #混合係数"
      ],
      "execution_count": 0,
      "outputs": []
    },
    {
      "cell_type": "code",
      "metadata": {
        "id": "CV-fhAHVFO0y",
        "colab_type": "code",
        "colab": {}
      },
      "source": [
        "# 混合係数の可視化\n",
        "x =np.arange(1, model3.n_components+1)\n",
        "\n",
        "plt.figure(figsize=(8,4)) #プロットのサイズ指定\n",
        "plt.bar(x, model3.weights_, width=0.7, tick_label=x)\n",
        "\n",
        "plt.ylabel('Mixing weights for each mixture component')\n",
        "plt.xlabel('Number of mixture components')\n",
        "plt.title('Wine dataset')\n",
        "plt.show"
      ],
      "execution_count": 0,
      "outputs": []
    },
    {
      "cell_type": "code",
      "metadata": {
        "id": "4ONAW-SFIHB8",
        "colab_type": "code",
        "colab": {}
      },
      "source": [
        ""
      ],
      "execution_count": 0,
      "outputs": []
    }
  ]
}